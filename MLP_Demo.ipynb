{
 "cells": [
  {
   "cell_type": "markdown",
   "metadata": {},
   "source": [
    "# MLPNets Demonstration\n",
    "\n",
    "Hello! This notebook will use some cool stuff from the neural net world and demonstrate how to use the lib MLPNets.\n",
    "\n",
    "I know you can do anything by yourself, but It is easyer to know you can relly on some good libreries, isn't?\n",
    "Lets import them now."
   ]
  },
  {
   "cell_type": "code",
   "execution_count": 1,
   "metadata": {},
   "outputs": [],
   "source": [
    "# To help us transforming and filtering our data:\n",
    "from sklearn.preprocessing import scale, normalize\n",
    "from sklearn.model_selection import train_test_split\n",
    "\n",
    "# To import our file into a dataset: \n",
    "import pandas as pd\n",
    "\n",
    "# To plot graphs like Da Vinci:\n",
    "import seaborn as sb\n",
    "import matplotlib.pyplot as plt\n",
    "%matplotlib inline\n",
    "\n",
    "# Our Neural Network guys\n",
    "import MLPClassifier\n",
    "import MLPRegressor"
   ]
  },
  {
   "cell_type": "markdown",
   "metadata": {},
   "source": [
    "Good, we have all we need to work. Lets import and check our dataset."
   ]
  },
  {
   "cell_type": "code",
   "execution_count": 2,
   "metadata": {},
   "outputs": [
    {
     "data": {
      "text/html": [
       "<div>\n",
       "<style scoped>\n",
       "    .dataframe tbody tr th:only-of-type {\n",
       "        vertical-align: middle;\n",
       "    }\n",
       "\n",
       "    .dataframe tbody tr th {\n",
       "        vertical-align: top;\n",
       "    }\n",
       "\n",
       "    .dataframe thead th {\n",
       "        text-align: right;\n",
       "    }\n",
       "</style>\n",
       "<table border=\"1\" class=\"dataframe\">\n",
       "  <thead>\n",
       "    <tr style=\"text-align: right;\">\n",
       "      <th></th>\n",
       "      <th>temperature</th>\n",
       "      <th>body_aches</th>\n",
       "      <th>head_aches</th>\n",
       "      <th>diarrhea</th>\n",
       "      <th>nausea</th>\n",
       "      <th>coughing</th>\n",
       "      <th>runny_nose</th>\n",
       "      <th>has_dengue</th>\n",
       "      <th>has_flu</th>\n",
       "      <th>illness_score</th>\n",
       "    </tr>\n",
       "  </thead>\n",
       "  <tbody>\n",
       "    <tr>\n",
       "      <th>0</th>\n",
       "      <td>36.5</td>\n",
       "      <td>0</td>\n",
       "      <td>1</td>\n",
       "      <td>0</td>\n",
       "      <td>0</td>\n",
       "      <td>0</td>\n",
       "      <td>0</td>\n",
       "      <td>0</td>\n",
       "      <td>0</td>\n",
       "      <td>4.65</td>\n",
       "    </tr>\n",
       "    <tr>\n",
       "      <th>1</th>\n",
       "      <td>36.5</td>\n",
       "      <td>0</td>\n",
       "      <td>1</td>\n",
       "      <td>1</td>\n",
       "      <td>0</td>\n",
       "      <td>0</td>\n",
       "      <td>1</td>\n",
       "      <td>0</td>\n",
       "      <td>0</td>\n",
       "      <td>6.65</td>\n",
       "    </tr>\n",
       "    <tr>\n",
       "      <th>2</th>\n",
       "      <td>37.0</td>\n",
       "      <td>0</td>\n",
       "      <td>0</td>\n",
       "      <td>0</td>\n",
       "      <td>1</td>\n",
       "      <td>0</td>\n",
       "      <td>0</td>\n",
       "      <td>0</td>\n",
       "      <td>0</td>\n",
       "      <td>4.70</td>\n",
       "    </tr>\n",
       "    <tr>\n",
       "      <th>3</th>\n",
       "      <td>37.0</td>\n",
       "      <td>1</td>\n",
       "      <td>1</td>\n",
       "      <td>1</td>\n",
       "      <td>0</td>\n",
       "      <td>0</td>\n",
       "      <td>0</td>\n",
       "      <td>0</td>\n",
       "      <td>0</td>\n",
       "      <td>6.70</td>\n",
       "    </tr>\n",
       "    <tr>\n",
       "      <th>4</th>\n",
       "      <td>37.5</td>\n",
       "      <td>0</td>\n",
       "      <td>0</td>\n",
       "      <td>2</td>\n",
       "      <td>0</td>\n",
       "      <td>0</td>\n",
       "      <td>0</td>\n",
       "      <td>0</td>\n",
       "      <td>0</td>\n",
       "      <td>5.75</td>\n",
       "    </tr>\n",
       "  </tbody>\n",
       "</table>\n",
       "</div>"
      ],
      "text/plain": [
       "   temperature  body_aches  head_aches  diarrhea  nausea  coughing  \\\n",
       "0         36.5           0           1         0       0         0   \n",
       "1         36.5           0           1         1       0         0   \n",
       "2         37.0           0           0         0       1         0   \n",
       "3         37.0           1           1         1       0         0   \n",
       "4         37.5           0           0         2       0         0   \n",
       "\n",
       "   runny_nose  has_dengue  has_flu  illness_score  \n",
       "0           0           0        0           4.65  \n",
       "1           1           0        0           6.65  \n",
       "2           0           0        0           4.70  \n",
       "3           0           0        0           6.70  \n",
       "4           0           0        0           5.75  "
      ]
     },
     "execution_count": 2,
     "metadata": {},
     "output_type": "execute_result"
    }
   ],
   "source": [
    "data = pd.read_csv(\"dengue_flu_illness.csv\")\n",
    "data.head()"
   ]
  },
  {
   "cell_type": "markdown",
   "metadata": {},
   "source": [
    "It is a good idea to partition the data into training and test datasets."
   ]
  },
  {
   "cell_type": "code",
   "execution_count": 3,
   "metadata": {},
   "outputs": [],
   "source": [
    "data_train, data_test = train_test_split(data, test_size=0.3)"
   ]
  },
  {
   "cell_type": "code",
   "execution_count": 4,
   "metadata": {},
   "outputs": [],
   "source": [
    "# Training data\n",
    "y1 = data_train[[\"has_dengue\", \"has_flu\"]]\n",
    "y2 = data_train[[\"illness_score\"]]\n",
    "X1 = data_train.drop(columns=y1).drop(columns=y2).values\n",
    "X2 = data_train.drop(columns=y2).values\n",
    "y1 = y1.values\n",
    "y2 = y2.values\n",
    "\n",
    "# Testing data\n",
    "ytest1 = data_test[[\"has_dengue\", \"has_flu\"]]\n",
    "ytest2 = data_test[[\"illness_score\"]]\n",
    "Xtest1 = data_test.drop(columns=ytest1).drop(columns=ytest2).values\n",
    "Xtest2 = data_test.drop(columns=ytest2).values\n",
    "ytest1 = ytest1.values\n",
    "ytest2 = ytest2.values"
   ]
  },
  {
   "cell_type": "markdown",
   "metadata": {},
   "source": [
    "Now lets create scaled and normalized versions of our dataset."
   ]
  },
  {
   "cell_type": "code",
   "execution_count": 5,
   "metadata": {},
   "outputs": [],
   "source": [
    "# Lets try with scaled and normalized Xs\n",
    "Xscaled1 = scale(X1)\n",
    "Xnorm1 = normalize(X1)\n",
    "Xscaled_test1 = scale(Xtest1)\n",
    "Xnorm_test1 = normalize(Xtest1)\n",
    "\n",
    "Xscaled2 = scale(X2)\n",
    "Xnorm2 = normalize(X2)\n",
    "Xscaled_test2 = scale(Xtest2)\n",
    "Xnorm_test2 = normalize(Xtest2)"
   ]
  },
  {
   "cell_type": "markdown",
   "metadata": {},
   "source": [
    "It is always a good idea to take a look into correlations between your data."
   ]
  },
  {
   "cell_type": "code",
   "execution_count": 6,
   "metadata": {},
   "outputs": [
    {
     "data": {
      "image/png": "[encoded data removed]",
      "text/plain": [
       "<matplotlib.figure.Figure at 0x7f04fb7d39b0>"
      ]
     },
     "metadata": {},
     "output_type": "display_data"
    }
   ],
   "source": [
    "plt.figure(figsize=[10,4])\n",
    "sb.heatmap(data.corr())\n",
    "plt.show()"
   ]
  },
  {
   "cell_type": "markdown",
   "metadata": {},
   "source": [
    "## The Classifier\n",
    "\n",
    "Here we are going to create a classifier, with 2 boolean outputs:"
   ]
  },
  {
   "cell_type": "code",
   "execution_count": 7,
   "metadata": {},
   "outputs": [
    {
     "name": "stdout",
     "output_type": "stream",
     "text": [
      ">>> mse: 0.27141\n",
      ">>> mse: 0.07987\n",
      ">>> mse: 0.01657\n",
      ">>> mse: 0.00053\n",
      ">>> mse: 0.00016\n",
      ">>> mse: 0.00015\n",
      ">>> mse: 0.00017\n",
      ">>> mse: 0.00012\n",
      ">>> mse: 5e-05\n",
      ">>> mse: 1e-05\n"
     ]
    }
   ],
   "source": [
    "# X Shape: 5,n - Y Shape: 2,n\n",
    "clf = MLPClassifier.MLPClassifier(7, 14, 2, 0.001, 2500, debug=1)\n",
    "clf.fit(Xscaled1, y1)"
   ]
  },
  {
   "cell_type": "code",
   "execution_count": 8,
   "metadata": {},
   "outputs": [
    {
     "name": "stdout",
     "output_type": "stream",
     "text": [
      "Labels: \n",
      " [[0 1]\n",
      " [1 0]\n",
      " [0 0]\n",
      " [1 0]\n",
      " [0 1]\n",
      " [1 0]]\n",
      "Predicted Labels: \n",
      " [[ 0.  1.]\n",
      " [ 1.  0.]\n",
      " [ 0.  0.]\n",
      " [ 1.  0.]\n",
      " [ 0.  1.]\n",
      " [ 1.  0.]]\n"
     ]
    }
   ],
   "source": [
    "print(\"Labels: \\n\", ytest1)\n",
    "print(\"Predicted Labels: \\n\", clf.predict(Xscaled_test1))"
   ]
  },
  {
   "cell_type": "markdown",
   "metadata": {},
   "source": [
    "## The Regression\n",
    "\n",
    "Here we are going to create a regression model with 1 numeric output:"
   ]
  },
  {
   "cell_type": "code",
   "execution_count": 9,
   "metadata": {},
   "outputs": [
    {
     "name": "stdout",
     "output_type": "stream",
     "text": [
      ">>> mse: 120.57248\n",
      ">>> mse: 3.90534\n",
      ">>> mse: 8.04743\n",
      ">>> mse: 5.56807\n",
      ">>> mse: 4.48714\n",
      ">>> mse: 0.32031\n",
      ">>> mse: 1.35622\n",
      ">>> mse: 0.95355\n",
      ">>> mse: 1.06715\n",
      ">>> mse: 0.9226\n"
     ]
    }
   ],
   "source": [
    "# X Shape: 5,n - Y Shape: 1,n\n",
    "reg = MLPRegressor.MLPRegressor(9, 200, 1, 0.005, 2500, debug=1)\n",
    "reg.fit(Xnorm2, y2)"
   ]
  },
  {
   "cell_type": "code",
   "execution_count": 10,
   "metadata": {},
   "outputs": [
    {
     "name": "stdout",
     "output_type": "stream",
     "text": [
      "[[ 10.9 ]\n",
      " [ 18.  ]\n",
      " [  6.7 ]\n",
      " [ 16.95]\n",
      " [ 13.9 ]\n",
      " [ 11.9 ]]\n",
      "[[ 11.84122]\n",
      " [ 19.34808]\n",
      " [  6.40511]\n",
      " [ 18.58318]\n",
      " [ 12.98516]\n",
      " [ 12.93176]]\n"
     ]
    },
    {
     "data": {
      "image/png": "[encoded data removed]",
      "text/plain": [
       "<matplotlib.figure.Figure at 0x7f04f96ec438>"
      ]
     },
     "metadata": {},
     "output_type": "display_data"
    }
   ],
   "source": [
    "print(ytest2)\n",
    "print(reg.predict(Xnorm_test2))\n",
    "plt.plot(ytest2)\n",
    "plt.plot(reg.predict(Xnorm_test2))\n",
    "plt.legend(\"RP\")\n",
    "plt.title(\"Right vs Predicted values\")\n",
    "plt.show()"
   ]
  }
 ],
 "metadata": {
  "kernelspec": {
   "display_name": "Python 3",
   "language": "python",
   "name": "python3"
  },
  "language_info": {
   "codemirror_mode": {
    "name": "ipython",
    "version": 3
   },
   "file_extension": ".py",
   "mimetype": "text/x-python",
   "name": "python",
   "nbconvert_exporter": "python",
   "pygments_lexer": "ipython3",
   "version": "3.6.3"
  }
 },
 "nbformat": 4,
 "nbformat_minor": 2
}
